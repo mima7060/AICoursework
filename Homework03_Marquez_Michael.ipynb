{
 "cells": [
  {
   "cell_type": "markdown",
   "metadata": {},
   "source": [
    "---\n",
    "\n",
    "# CSCI 3202, Spring 2024\n",
    "# Homework 3\n",
    "# Due: Friday March 8, 2024 at 5:59 PM\n",
    "\n",
    "<br> \n",
    "\n",
    "### Your name: Michael Marquez\n",
    "\n",
    "<br> "
   ]
  },
  {
   "cell_type": "markdown",
   "metadata": {},
   "source": [
    "---\n",
    "\n",
    "Some useful packages and libraries:\n",
    "\n"
   ]
  },
  {
   "cell_type": "code",
   "execution_count": 1,
   "metadata": {},
   "outputs": [],
   "source": [
    "import numpy as np\n",
    "import pandas as pd\n",
    "import matplotlib.pyplot as plt\n",
    "from matplotlib import colors\n",
    "from collections import deque\n",
    "import heapq\n",
    "import unittest\n",
    "from scipy import stats\n",
    "import copy as cp\n",
    "from time import time"
   ]
  },
  {
   "cell_type": "markdown",
   "metadata": {},
   "source": [
    "---\n",
    "\n",
    "## Problem 1: Maximizing an Objective Function with a Genetic Algorithm \n",
    "\n",
    "Suppose we've lost the index card with our favorite cupcake recipe. We know the ingredients of the cake, but cannot remember the exact amount of each ingredient. We decide to use a genetic algorithm to generate the  ingredient amounts. With each iteration of the genetic algorithm, we bake the cupcakes and taste-test them. We achieve our goal and stop running the genetic algorithm when we get to the actual recipe: \n",
    "\n",
    "* 1 tsp salt \n",
    "* 3 tsp baking powder \n",
    "* 2 cups all-purpose flour \n",
    "* 1 cup butter \n",
    "* 1 cup granulated sugar \n",
    "* 4 large eggs\n",
    "* 1 tsp vanilla extract\n",
    "* 1 cup buttermilk "
   ]
  },
  {
   "cell_type": "code",
   "execution_count": 2,
   "metadata": {},
   "outputs": [],
   "source": [
    "target = [1, 3, 2, 1, 1, 4, 1, 1]"
   ]
  },
  {
   "cell_type": "markdown",
   "metadata": {},
   "source": [
    "An example starting state for a member of our population might look like: $state = [1, 2, 100, 36, 60, 3, 5, 50]$\n",
    "\n",
    "### (1a) \n",
    "\n",
    "Write an objective function `def recipe_success(state)` that takes a single argument state, and returns the objective function value (fitness) of the state. The objective function should be maximized when a state reaches the target. You could for example define the fitness score of a particular state based on how far away each entry is from the target recipe."
   ]
  },
  {
   "cell_type": "code",
   "execution_count": 32,
   "metadata": {},
   "outputs": [],
   "source": [
    "def recipe_success(state):\n",
    "    # Your code here.\n",
    "    # sum of abs(difference of lists)\n",
    "    val = 0\n",
    "    if len(state) != len(target): # lists aren't same length\n",
    "        return None\n",
    "    else:\n",
    "        for (s,t) in zip(state,target):\n",
    "            if s != t: val += 1\n",
    "        \n",
    "        return len(target) - val # number we have correct"
   ]
  },
  {
   "cell_type": "code",
   "execution_count": 33,
   "metadata": {},
   "outputs": [
    {
     "data": {
      "text/plain": [
       "1"
      ]
     },
     "execution_count": 33,
     "metadata": {},
     "output_type": "execute_result"
    }
   ],
   "source": [
    "# Write your own test case to make sure that the target element achieves\n",
    "# the fitness score you would expect it to (this will vary depending on\n",
    "# what you did here.)\n",
    "\n",
    "state = [1,2,100,36,60,3,5,50]\n",
    "recipe_success(state)"
   ]
  },
  {
   "cell_type": "markdown",
   "metadata": {},
   "source": [
    "### (1b) \n",
    "\n",
    "Using our in class notebook \"Lecture 16 - Genetic Algorithms.ipynb\" as your guide, write a genetic algorithm that starts with a population of 100 randomly generated \"recipes/states/members\" and uses the objective function you wrote in **(1a)** to hopefully hit the target after a certain number of generations. \n",
    "\n",
    "Key components of your code:\n",
    "- Generate the initial population randomly from integers between 0 and 100 \n",
    "- Allow for mutations in your population with an overall probability of mutation set to p = 0.2\n",
    "- Choose 2 \"parents\" in the generation of each \"child\"\n",
    "- Choose a random split point at which to combine the two \"parents\"\n",
    "- Run the algorithm for 50 iterations (\"generations\"). Do you hit your target?"
   ]
  },
  {
   "cell_type": "code",
   "execution_count": 34,
   "metadata": {},
   "outputs": [],
   "source": [
    "#Your code here\n",
    "\n",
    "# gene is random number between 0 and 100\n",
    "# chromosome is list of genes which is state of Individual\n",
    "\n",
    "import random\n",
    "\n",
    "class problem:\n",
    "    \n",
    "    def __init__(self, initial_population, objective_function, mutation_probability, fitness_goal):\n",
    "        '''\n",
    "        initial_population = list of lists; each sub-list is a dna string for a population member\n",
    "        objective_function = objective function to maximize\n",
    "        mutation_probability = probability that any given child has a mutation\n",
    "        fitness_goal = fitness goal to achieve (stopping criterion, once member reaches this)\n",
    "        '''\n",
    "        self.population = initial_population\n",
    "        self.initial_population = initial_population\n",
    "        self.objective_function = objective_function\n",
    "        self.p_mutate = mutation_probability\n",
    "        self.n_pop = len(initial_population)\n",
    "        self.n_dna = len(initial_population[0])\n",
    "        self.fitness_goal = fitness_goal\n",
    "\n",
    "    def fitness(self):\n",
    "        '''\n",
    "        calculate each population member's probability of being selected for\n",
    "        reproduction based on performance on objective function\n",
    "        '''\n",
    "        performance = []\n",
    "        for k in range(self.n_pop):\n",
    "            performance.append(self.objective_function(self.population[k]))\n",
    "        total = sum(performance)\n",
    "        p_reproduce = [perf/sum(performance) for perf in performance]\n",
    "        return p_reproduce\n",
    "        \n",
    "    def reproduce(self, parent1, parent2):\n",
    "        # last DNA snippet from parent1:\n",
    "        split = np.random.randint(low=1, high=self.n_dna)\n",
    "        child = parent1[:split] + parent2[split:]\n",
    "        return child\n",
    "\n",
    "    def mutate(self, child):\n",
    "        # which gene to mutate?\n",
    "        gene = np.random.randint(low=0, high=self.n_dna)\n",
    "        child[gene] = random.randint(0,100)\n",
    "        return child\n"
   ]
  },
  {
   "cell_type": "code",
   "execution_count": 52,
   "metadata": {},
   "outputs": [],
   "source": [
    "# generate random population\n",
    "def mutated_gene():\n",
    "    return random.randint(0,100)\n",
    "\n",
    "def create_chromosome():\n",
    "    return [mutated_gene() for i in range(len(target))]\n",
    "\n",
    "population = []\n",
    "\n",
    "for x in range(200): # initial population\n",
    "    \n",
    "    new_lst = list(create_chromosome())\n",
    "    population.append(new_lst)\n",
    "    \n",
    "#for i in range(len(population)):\n",
    "    #print(f'Individual: {i}, State: {population[i].state}')\n",
    "\n",
    "#a = population[0]\n",
    "#b = population[1]\n",
    "#abzip = list(zip(a.chromosome,b.chromosome))\n",
    "#print(f'Zip: {abzip}')\n",
    "\n",
    "#gen_prob = problem(population,recipe_success,0.2,0)\n",
    "\n",
    "#(fit,pop) = sorted(zip(gen_prob.fitness(), gen_prob.population))\n",
    "#print(fit)"
   ]
  },
  {
   "cell_type": "code",
   "execution_count": 53,
   "metadata": {},
   "outputs": [
    {
     "name": "stdout",
     "output_type": "stream",
     "text": [
      "Generation: 0\tClosest Child Chromosome: (2, [97, 52, 1, 70, 99, 4, 3, 1])\n",
      "Generation: 1\tClosest Child Chromosome: (3, [29, 35, 18, 70, 1, 4, 3, 1])\n",
      "Generation: 2\tClosest Child Chromosome: (4, [32, 3, 2, 1, 39, 45, 1, 19])\n",
      "Generation: 3\tClosest Child Chromosome: (4, [96, 41, 2, 1, 37, 11, 1, 1])\n",
      "Generation: 4\tClosest Child Chromosome: (5, [32, 3, 2, 82, 1, 4, 3, 1])\n",
      "Generation: 5\tClosest Child Chromosome: (6, [1, 3, 36, 1, 1, 4, 1, 26])\n",
      "Generation: 6\tClosest Child Chromosome: (6, [32, 3, 2, 1, 1, 40, 1, 1])\n",
      "Generation: 7\tClosest Child Chromosome: (7, [1, 3, 2, 1, 1, 33, 1, 1])\n",
      "Goal Reached: [96, 41, 2, 37, 52, 4, 1, 30]\n"
     ]
    },
    {
     "data": {
      "text/plain": [
       "(8, [1, 3, 2, 1, 1, 4, 1, 1])"
      ]
     },
     "execution_count": 53,
     "metadata": {},
     "output_type": "execute_result"
    }
   ],
   "source": [
    "def gen_algo(problem,n_iter):\n",
    "    generation = 0 # current generation and number of iterations\n",
    "    \n",
    "    while generation < n_iter:\n",
    "\n",
    "        new_generation = []\n",
    "        \n",
    "        for x in range(0, len(problem.population)):\n",
    "            \n",
    "            # reproducing using two random parents to create entirely new generation\n",
    "            p_reproduce = problem.fitness()\n",
    "            ind_parents = np.random.choice(range(0,problem.n_pop), size=2, p=p_reproduce, replace=False) # excluding elite\n",
    "            parent1, parent2 = problem.population[ind_parents[0]], problem.population[ind_parents[1]]\n",
    "\n",
    "            child = problem.reproduce(parent1, parent2)\n",
    "            \n",
    "            # mutation (changes random ingredient to random number in selected recipe)\n",
    "            l_mutate = np.random.choice([True, False], p=[problem.p_mutate, 1-problem.p_mutate])\n",
    "            if l_mutate:\n",
    "                child = problem.mutate(child)\n",
    "            \n",
    "            new_generation.append(child)\n",
    "        \n",
    "        # replace current population with new generation of children\n",
    "        problem.population = new_generation\n",
    "        \n",
    "        # evaluate each recipe based on how many ingredient counts are off\n",
    "        performance = [problem.objective_function(member) for member in problem.population]\n",
    "        best_member = max(zip(performance,problem.population))\n",
    "        \n",
    "        # checking if the first item in sorted list matches the target ingredient counts\n",
    "        if best_member[0] >= problem.fitness_goal:\n",
    "            print(f'Goal Reached: {problem.population[best_member[0]]}')\n",
    "            return best_member\n",
    "        \n",
    "        #print(f'Generation: {generation}\\t Performances: {sorted_perf[0]}')\n",
    "        print(f'Generation: {generation}\\tClosest Child Chromosome: {best_member}')\n",
    "\n",
    "        generation += 1\n",
    "\n",
    "        \n",
    "        \n",
    "gen_prob = problem(population,recipe_success,0.2,len(target))\n",
    "gen_algo(gen_prob,50)"
   ]
  },
  {
   "cell_type": "markdown",
   "metadata": {},
   "source": [
    "### (1c)\n",
    "\n",
    "Report the following:\n",
    "- How many generations did it take to hit the goal?\n",
    "- If you change the initial population size to 200, does that change the number of generations it takes to achieve the goal recipe?\n",
    "- If you change the probability of mutation, does that affect the number of generations it takes to achieve the goal recipe? How so?\n",
    "\n",
    "Alternate questions to answer if Target not hit:\n",
    "- Report whether you minimized of maximized the objective function and whether that led to any major changes in how you designed the probability of reproduction. A couple sentences here is fine.\n",
    " \n",
    "- Report how many ingredients you ended up matching. e.g. target = [0.5, 3, 2.5, 1, 1.5, 4, 1, 1.25], perhaps your algorithm achieved [1.5, 3, 8, 1, 1, 100, 56, 1, 1.25], then you would have matched 4 of the ingredient values.\n",
    " \n",
    "- Report how many iterations you tried in order to get this answer. (Don't burn up your machine in the process)"
   ]
  },
  {
   "cell_type": "markdown",
   "metadata": {},
   "source": [
    "- With only 100 members in the population and 50 iterations, I did not fully meet the target. I was close with (49, [1,75,2,79,1,4,1,36]) having 5 of the ingredient counts correct.\n",
    "- Changing the initial population size to 200, I reach the goal much faster in only 8 iterations.\n",
    "- If I change the probability of mutation it does affect the number of generations it takes to achieve the goal. Making the probability higher, causes more random mutations which makes the algorithm take longer to finish while having no mutations means that the mutations can't interfere with the algorithm."
   ]
  },
  {
   "cell_type": "code",
   "execution_count": 19,
   "metadata": {},
   "outputs": [],
   "source": [
    "# Your code here."
   ]
  }
 ],
 "metadata": {
  "kernelspec": {
   "display_name": "Python 3 (ipykernel)",
   "language": "python",
   "name": "python3"
  },
  "language_info": {
   "codemirror_mode": {
    "name": "ipython",
    "version": 3
   },
   "file_extension": ".py",
   "mimetype": "text/x-python",
   "name": "python",
   "nbconvert_exporter": "python",
   "pygments_lexer": "ipython3",
   "version": "3.11.5"
  }
 },
 "nbformat": 4,
 "nbformat_minor": 2
}
